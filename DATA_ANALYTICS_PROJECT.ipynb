{
 "cells": [
  {
   "cell_type": "code",
   "execution_count": 1,
   "id": "756bf2cd",
   "metadata": {},
   "outputs": [],
   "source": [
    "import matplotlib.pyplot as plt\n",
    "import pandas as pd\n",
    "import numpy as np\n",
    "import seaborn as snb"
   ]
  },
  {
   "cell_type": "code",
   "execution_count": 3,
   "id": "7040dd07",
   "metadata": {},
   "outputs": [],
   "source": [
    "data = pd.read_csv(\"DoctorVisits - DA.csv\")"
   ]
  },
  {
   "cell_type": "code",
   "execution_count": 4,
   "id": "6fbc982f",
   "metadata": {},
   "outputs": [
    {
     "data": {
      "text/html": [
       "<div>\n",
       "<style scoped>\n",
       "    .dataframe tbody tr th:only-of-type {\n",
       "        vertical-align: middle;\n",
       "    }\n",
       "\n",
       "    .dataframe tbody tr th {\n",
       "        vertical-align: top;\n",
       "    }\n",
       "\n",
       "    .dataframe thead th {\n",
       "        text-align: right;\n",
       "    }\n",
       "</style>\n",
       "<table border=\"1\" class=\"dataframe\">\n",
       "  <thead>\n",
       "    <tr style=\"text-align: right;\">\n",
       "      <th></th>\n",
       "      <th>Unnamed: 0</th>\n",
       "      <th>visits</th>\n",
       "      <th>gender</th>\n",
       "      <th>age</th>\n",
       "      <th>income</th>\n",
       "      <th>illness</th>\n",
       "      <th>reduced</th>\n",
       "      <th>health</th>\n",
       "      <th>private</th>\n",
       "      <th>freepoor</th>\n",
       "      <th>freerepat</th>\n",
       "      <th>nchronic</th>\n",
       "      <th>lchronic</th>\n",
       "    </tr>\n",
       "  </thead>\n",
       "  <tbody>\n",
       "    <tr>\n",
       "      <th>0</th>\n",
       "      <td>1</td>\n",
       "      <td>1</td>\n",
       "      <td>female</td>\n",
       "      <td>0.19</td>\n",
       "      <td>0.55</td>\n",
       "      <td>1</td>\n",
       "      <td>4</td>\n",
       "      <td>1</td>\n",
       "      <td>yes</td>\n",
       "      <td>no</td>\n",
       "      <td>no</td>\n",
       "      <td>no</td>\n",
       "      <td>no</td>\n",
       "    </tr>\n",
       "    <tr>\n",
       "      <th>1</th>\n",
       "      <td>2</td>\n",
       "      <td>1</td>\n",
       "      <td>female</td>\n",
       "      <td>0.19</td>\n",
       "      <td>0.45</td>\n",
       "      <td>1</td>\n",
       "      <td>2</td>\n",
       "      <td>1</td>\n",
       "      <td>yes</td>\n",
       "      <td>no</td>\n",
       "      <td>no</td>\n",
       "      <td>no</td>\n",
       "      <td>no</td>\n",
       "    </tr>\n",
       "    <tr>\n",
       "      <th>2</th>\n",
       "      <td>3</td>\n",
       "      <td>1</td>\n",
       "      <td>male</td>\n",
       "      <td>0.19</td>\n",
       "      <td>0.90</td>\n",
       "      <td>3</td>\n",
       "      <td>0</td>\n",
       "      <td>0</td>\n",
       "      <td>no</td>\n",
       "      <td>no</td>\n",
       "      <td>no</td>\n",
       "      <td>no</td>\n",
       "      <td>no</td>\n",
       "    </tr>\n",
       "    <tr>\n",
       "      <th>3</th>\n",
       "      <td>4</td>\n",
       "      <td>1</td>\n",
       "      <td>male</td>\n",
       "      <td>0.19</td>\n",
       "      <td>0.15</td>\n",
       "      <td>1</td>\n",
       "      <td>0</td>\n",
       "      <td>0</td>\n",
       "      <td>no</td>\n",
       "      <td>no</td>\n",
       "      <td>no</td>\n",
       "      <td>no</td>\n",
       "      <td>no</td>\n",
       "    </tr>\n",
       "    <tr>\n",
       "      <th>4</th>\n",
       "      <td>5</td>\n",
       "      <td>1</td>\n",
       "      <td>male</td>\n",
       "      <td>0.19</td>\n",
       "      <td>0.45</td>\n",
       "      <td>2</td>\n",
       "      <td>5</td>\n",
       "      <td>1</td>\n",
       "      <td>no</td>\n",
       "      <td>no</td>\n",
       "      <td>no</td>\n",
       "      <td>yes</td>\n",
       "      <td>no</td>\n",
       "    </tr>\n",
       "    <tr>\n",
       "      <th>...</th>\n",
       "      <td>...</td>\n",
       "      <td>...</td>\n",
       "      <td>...</td>\n",
       "      <td>...</td>\n",
       "      <td>...</td>\n",
       "      <td>...</td>\n",
       "      <td>...</td>\n",
       "      <td>...</td>\n",
       "      <td>...</td>\n",
       "      <td>...</td>\n",
       "      <td>...</td>\n",
       "      <td>...</td>\n",
       "      <td>...</td>\n",
       "    </tr>\n",
       "    <tr>\n",
       "      <th>5185</th>\n",
       "      <td>5186</td>\n",
       "      <td>0</td>\n",
       "      <td>female</td>\n",
       "      <td>0.22</td>\n",
       "      <td>0.55</td>\n",
       "      <td>0</td>\n",
       "      <td>0</td>\n",
       "      <td>0</td>\n",
       "      <td>no</td>\n",
       "      <td>no</td>\n",
       "      <td>no</td>\n",
       "      <td>no</td>\n",
       "      <td>no</td>\n",
       "    </tr>\n",
       "    <tr>\n",
       "      <th>5186</th>\n",
       "      <td>5187</td>\n",
       "      <td>0</td>\n",
       "      <td>male</td>\n",
       "      <td>0.27</td>\n",
       "      <td>1.30</td>\n",
       "      <td>0</td>\n",
       "      <td>0</td>\n",
       "      <td>1</td>\n",
       "      <td>no</td>\n",
       "      <td>no</td>\n",
       "      <td>no</td>\n",
       "      <td>no</td>\n",
       "      <td>no</td>\n",
       "    </tr>\n",
       "    <tr>\n",
       "      <th>5187</th>\n",
       "      <td>5188</td>\n",
       "      <td>0</td>\n",
       "      <td>female</td>\n",
       "      <td>0.37</td>\n",
       "      <td>0.25</td>\n",
       "      <td>1</td>\n",
       "      <td>0</td>\n",
       "      <td>1</td>\n",
       "      <td>no</td>\n",
       "      <td>no</td>\n",
       "      <td>yes</td>\n",
       "      <td>no</td>\n",
       "      <td>no</td>\n",
       "    </tr>\n",
       "    <tr>\n",
       "      <th>5188</th>\n",
       "      <td>5189</td>\n",
       "      <td>0</td>\n",
       "      <td>female</td>\n",
       "      <td>0.52</td>\n",
       "      <td>0.65</td>\n",
       "      <td>0</td>\n",
       "      <td>0</td>\n",
       "      <td>0</td>\n",
       "      <td>no</td>\n",
       "      <td>no</td>\n",
       "      <td>no</td>\n",
       "      <td>no</td>\n",
       "      <td>no</td>\n",
       "    </tr>\n",
       "    <tr>\n",
       "      <th>5189</th>\n",
       "      <td>5190</td>\n",
       "      <td>0</td>\n",
       "      <td>male</td>\n",
       "      <td>0.72</td>\n",
       "      <td>0.25</td>\n",
       "      <td>0</td>\n",
       "      <td>0</td>\n",
       "      <td>0</td>\n",
       "      <td>no</td>\n",
       "      <td>no</td>\n",
       "      <td>yes</td>\n",
       "      <td>no</td>\n",
       "      <td>no</td>\n",
       "    </tr>\n",
       "  </tbody>\n",
       "</table>\n",
       "<p>5190 rows × 13 columns</p>\n",
       "</div>"
      ],
      "text/plain": [
       "      Unnamed: 0  visits  gender   age  income  illness  reduced  health  \\\n",
       "0              1       1  female  0.19    0.55        1        4       1   \n",
       "1              2       1  female  0.19    0.45        1        2       1   \n",
       "2              3       1    male  0.19    0.90        3        0       0   \n",
       "3              4       1    male  0.19    0.15        1        0       0   \n",
       "4              5       1    male  0.19    0.45        2        5       1   \n",
       "...          ...     ...     ...   ...     ...      ...      ...     ...   \n",
       "5185        5186       0  female  0.22    0.55        0        0       0   \n",
       "5186        5187       0    male  0.27    1.30        0        0       1   \n",
       "5187        5188       0  female  0.37    0.25        1        0       1   \n",
       "5188        5189       0  female  0.52    0.65        0        0       0   \n",
       "5189        5190       0    male  0.72    0.25        0        0       0   \n",
       "\n",
       "     private freepoor freerepat nchronic lchronic  \n",
       "0        yes       no        no       no       no  \n",
       "1        yes       no        no       no       no  \n",
       "2         no       no        no       no       no  \n",
       "3         no       no        no       no       no  \n",
       "4         no       no        no      yes       no  \n",
       "...      ...      ...       ...      ...      ...  \n",
       "5185      no       no        no       no       no  \n",
       "5186      no       no        no       no       no  \n",
       "5187      no       no       yes       no       no  \n",
       "5188      no       no        no       no       no  \n",
       "5189      no       no       yes       no       no  \n",
       "\n",
       "[5190 rows x 13 columns]"
      ]
     },
     "execution_count": 4,
     "metadata": {},
     "output_type": "execute_result"
    }
   ],
   "source": []
  },
  {
   "cell_type": "code",
   "execution_count": 5,
   "id": "d1cda1ea",
   "metadata": {},
   "outputs": [
    {
     "data": {
      "text/html": [
       "<div>\n",
       "<style scoped>\n",
       "    .dataframe tbody tr th:only-of-type {\n",
       "        vertical-align: middle;\n",
       "    }\n",
       "\n",
       "    .dataframe tbody tr th {\n",
       "        vertical-align: top;\n",
       "    }\n",
       "\n",
       "    .dataframe thead th {\n",
       "        text-align: right;\n",
       "    }\n",
       "</style>\n",
       "<table border=\"1\" class=\"dataframe\">\n",
       "  <thead>\n",
       "    <tr style=\"text-align: right;\">\n",
       "      <th></th>\n",
       "      <th>Unnamed: 0</th>\n",
       "      <th>visits</th>\n",
       "      <th>gender</th>\n",
       "      <th>age</th>\n",
       "      <th>income</th>\n",
       "      <th>illness</th>\n",
       "      <th>reduced</th>\n",
       "      <th>health</th>\n",
       "      <th>private</th>\n",
       "      <th>freepoor</th>\n",
       "      <th>freerepat</th>\n",
       "      <th>nchronic</th>\n",
       "      <th>lchronic</th>\n",
       "    </tr>\n",
       "  </thead>\n",
       "  <tbody>\n",
       "    <tr>\n",
       "      <th>0</th>\n",
       "      <td>1</td>\n",
       "      <td>1</td>\n",
       "      <td>female</td>\n",
       "      <td>0.19</td>\n",
       "      <td>0.55</td>\n",
       "      <td>1</td>\n",
       "      <td>4</td>\n",
       "      <td>1</td>\n",
       "      <td>yes</td>\n",
       "      <td>no</td>\n",
       "      <td>no</td>\n",
       "      <td>no</td>\n",
       "      <td>no</td>\n",
       "    </tr>\n",
       "    <tr>\n",
       "      <th>1</th>\n",
       "      <td>2</td>\n",
       "      <td>1</td>\n",
       "      <td>female</td>\n",
       "      <td>0.19</td>\n",
       "      <td>0.45</td>\n",
       "      <td>1</td>\n",
       "      <td>2</td>\n",
       "      <td>1</td>\n",
       "      <td>yes</td>\n",
       "      <td>no</td>\n",
       "      <td>no</td>\n",
       "      <td>no</td>\n",
       "      <td>no</td>\n",
       "    </tr>\n",
       "    <tr>\n",
       "      <th>2</th>\n",
       "      <td>3</td>\n",
       "      <td>1</td>\n",
       "      <td>male</td>\n",
       "      <td>0.19</td>\n",
       "      <td>0.90</td>\n",
       "      <td>3</td>\n",
       "      <td>0</td>\n",
       "      <td>0</td>\n",
       "      <td>no</td>\n",
       "      <td>no</td>\n",
       "      <td>no</td>\n",
       "      <td>no</td>\n",
       "      <td>no</td>\n",
       "    </tr>\n",
       "    <tr>\n",
       "      <th>3</th>\n",
       "      <td>4</td>\n",
       "      <td>1</td>\n",
       "      <td>male</td>\n",
       "      <td>0.19</td>\n",
       "      <td>0.15</td>\n",
       "      <td>1</td>\n",
       "      <td>0</td>\n",
       "      <td>0</td>\n",
       "      <td>no</td>\n",
       "      <td>no</td>\n",
       "      <td>no</td>\n",
       "      <td>no</td>\n",
       "      <td>no</td>\n",
       "    </tr>\n",
       "    <tr>\n",
       "      <th>4</th>\n",
       "      <td>5</td>\n",
       "      <td>1</td>\n",
       "      <td>male</td>\n",
       "      <td>0.19</td>\n",
       "      <td>0.45</td>\n",
       "      <td>2</td>\n",
       "      <td>5</td>\n",
       "      <td>1</td>\n",
       "      <td>no</td>\n",
       "      <td>no</td>\n",
       "      <td>no</td>\n",
       "      <td>yes</td>\n",
       "      <td>no</td>\n",
       "    </tr>\n",
       "    <tr>\n",
       "      <th>5</th>\n",
       "      <td>6</td>\n",
       "      <td>1</td>\n",
       "      <td>female</td>\n",
       "      <td>0.19</td>\n",
       "      <td>0.35</td>\n",
       "      <td>5</td>\n",
       "      <td>1</td>\n",
       "      <td>9</td>\n",
       "      <td>no</td>\n",
       "      <td>no</td>\n",
       "      <td>no</td>\n",
       "      <td>yes</td>\n",
       "      <td>no</td>\n",
       "    </tr>\n",
       "    <tr>\n",
       "      <th>6</th>\n",
       "      <td>7</td>\n",
       "      <td>1</td>\n",
       "      <td>female</td>\n",
       "      <td>0.19</td>\n",
       "      <td>0.55</td>\n",
       "      <td>4</td>\n",
       "      <td>0</td>\n",
       "      <td>2</td>\n",
       "      <td>no</td>\n",
       "      <td>no</td>\n",
       "      <td>no</td>\n",
       "      <td>no</td>\n",
       "      <td>no</td>\n",
       "    </tr>\n",
       "    <tr>\n",
       "      <th>7</th>\n",
       "      <td>8</td>\n",
       "      <td>1</td>\n",
       "      <td>female</td>\n",
       "      <td>0.19</td>\n",
       "      <td>0.15</td>\n",
       "      <td>3</td>\n",
       "      <td>0</td>\n",
       "      <td>6</td>\n",
       "      <td>no</td>\n",
       "      <td>no</td>\n",
       "      <td>no</td>\n",
       "      <td>no</td>\n",
       "      <td>no</td>\n",
       "    </tr>\n",
       "    <tr>\n",
       "      <th>8</th>\n",
       "      <td>9</td>\n",
       "      <td>1</td>\n",
       "      <td>female</td>\n",
       "      <td>0.19</td>\n",
       "      <td>0.65</td>\n",
       "      <td>2</td>\n",
       "      <td>0</td>\n",
       "      <td>5</td>\n",
       "      <td>yes</td>\n",
       "      <td>no</td>\n",
       "      <td>no</td>\n",
       "      <td>no</td>\n",
       "      <td>no</td>\n",
       "    </tr>\n",
       "    <tr>\n",
       "      <th>9</th>\n",
       "      <td>10</td>\n",
       "      <td>1</td>\n",
       "      <td>male</td>\n",
       "      <td>0.19</td>\n",
       "      <td>0.15</td>\n",
       "      <td>1</td>\n",
       "      <td>0</td>\n",
       "      <td>0</td>\n",
       "      <td>yes</td>\n",
       "      <td>no</td>\n",
       "      <td>no</td>\n",
       "      <td>no</td>\n",
       "      <td>no</td>\n",
       "    </tr>\n",
       "  </tbody>\n",
       "</table>\n",
       "</div>"
      ],
      "text/plain": [
       "   Unnamed: 0  visits  gender   age  income  illness  reduced  health private  \\\n",
       "0           1       1  female  0.19    0.55        1        4       1     yes   \n",
       "1           2       1  female  0.19    0.45        1        2       1     yes   \n",
       "2           3       1    male  0.19    0.90        3        0       0      no   \n",
       "3           4       1    male  0.19    0.15        1        0       0      no   \n",
       "4           5       1    male  0.19    0.45        2        5       1      no   \n",
       "5           6       1  female  0.19    0.35        5        1       9      no   \n",
       "6           7       1  female  0.19    0.55        4        0       2      no   \n",
       "7           8       1  female  0.19    0.15        3        0       6      no   \n",
       "8           9       1  female  0.19    0.65        2        0       5     yes   \n",
       "9          10       1    male  0.19    0.15        1        0       0     yes   \n",
       "\n",
       "  freepoor freerepat nchronic lchronic  \n",
       "0       no        no       no       no  \n",
       "1       no        no       no       no  \n",
       "2       no        no       no       no  \n",
       "3       no        no       no       no  \n",
       "4       no        no      yes       no  \n",
       "5       no        no      yes       no  \n",
       "6       no        no       no       no  \n",
       "7       no        no       no       no  \n",
       "8       no        no       no       no  \n",
       "9       no        no       no       no  "
      ]
     },
     "execution_count": 5,
     "metadata": {},
     "output_type": "execute_result"
    }
   ],
   "source": [
    "data.head(10)"
   ]
  },
  {
   "cell_type": "markdown",
   "id": "c0a2584c",
   "metadata": {},
   "source": [
    "# Dataset information"
   ]
  },
  {
   "cell_type": "code",
   "execution_count": 6,
   "id": "f091844d",
   "metadata": {},
   "outputs": [
    {
     "name": "stdout",
     "output_type": "stream",
     "text": [
      "<class 'pandas.core.frame.DataFrame'>\n",
      "RangeIndex: 5190 entries, 0 to 5189\n",
      "Data columns (total 13 columns):\n",
      " #   Column      Non-Null Count  Dtype  \n",
      "---  ------      --------------  -----  \n",
      " 0   Unnamed: 0  5190 non-null   int64  \n",
      " 1   visits      5190 non-null   int64  \n",
      " 2   gender      5190 non-null   object \n",
      " 3   age         5190 non-null   float64\n",
      " 4   income      5190 non-null   float64\n",
      " 5   illness     5190 non-null   int64  \n",
      " 6   reduced     5190 non-null   int64  \n",
      " 7   health      5190 non-null   int64  \n",
      " 8   private     5190 non-null   object \n",
      " 9   freepoor    5190 non-null   object \n",
      " 10  freerepat   5190 non-null   object \n",
      " 11  nchronic    5190 non-null   object \n",
      " 12  lchronic    5190 non-null   object \n",
      "dtypes: float64(2), int64(5), object(6)\n",
      "memory usage: 527.2+ KB\n"
     ]
    }
   ],
   "source": [
    "data.info()"
   ]
  },
  {
   "cell_type": "markdown",
   "id": "d92cb36d",
   "metadata": {},
   "source": [
    "# Counting the values of columns"
   ]
  },
  {
   "cell_type": "code",
   "execution_count": 7,
   "id": "87015091",
   "metadata": {},
   "outputs": [
    {
     "data": {
      "text/plain": [
       "1    1638\n",
       "0    1554\n",
       "2     946\n",
       "3     542\n",
       "4     274\n",
       "5     236\n",
       "Name: illness, dtype: int64"
      ]
     },
     "execution_count": 7,
     "metadata": {},
     "output_type": "execute_result"
    }
   ],
   "source": [
    "data['illness'].value_counts()"
   ]
  },
  {
   "cell_type": "code",
   "execution_count": 11,
   "id": "f98a5e08",
   "metadata": {},
   "outputs": [
    {
     "data": {
      "text/plain": [
       "0.22    1213\n",
       "0.72     822\n",
       "0.19     752\n",
       "0.27     523\n",
       "0.62     316\n",
       "0.67     315\n",
       "0.32     301\n",
       "0.57     273\n",
       "0.52     222\n",
       "0.47     181\n",
       "0.37     146\n",
       "0.42     126\n",
       "Name: age, dtype: int64"
      ]
     },
     "execution_count": 11,
     "metadata": {},
     "output_type": "execute_result"
    }
   ],
   "source": [
    "data['age'].value_counts()"
   ]
  },
  {
   "cell_type": "code",
   "execution_count": 9,
   "id": "8e87a4bd",
   "metadata": {},
   "outputs": [
    {
     "data": {
      "text/plain": [
       "no     4968\n",
       "yes     222\n",
       "Name: freepoor, dtype: int64"
      ]
     },
     "execution_count": 9,
     "metadata": {},
     "output_type": "execute_result"
    }
   ],
   "source": [
    "data['freepoor'].value_counts()"
   ]
  },
  {
   "cell_type": "code",
   "execution_count": 10,
   "id": "3a1be366",
   "metadata": {},
   "outputs": [
    {
     "data": {
      "text/plain": [
       "female    2702\n",
       "male      2488\n",
       "Name: gender, dtype: int64"
      ]
     },
     "execution_count": 10,
     "metadata": {},
     "output_type": "execute_result"
    }
   ],
   "source": [
    "data['gender'].value_counts()"
   ]
  },
  {
   "cell_type": "markdown",
   "id": "5bc5d828",
   "metadata": {},
   "source": [
    "# visualize and analyse the max,min and medium income"
   ]
  },
  {
   "cell_type": "code",
   "execution_count": 12,
   "id": "e99474c9",
   "metadata": {},
   "outputs": [
    {
     "data": {
      "image/png": "[encoded data removed]",
      "text/plain": [
       "<Figure size 432x288 with 1 Axes>"
      ]
     },
     "metadata": {
      "needs_background": "light"
     },
     "output_type": "display_data"
    }
   ],
   "source": [
    "y=list(data.income)\n",
    "plt.boxplot(y)\n",
    "plt.show()"
   ]
  },
  {
   "cell_type": "markdown",
   "id": "ce436dbf",
   "metadata": {},
   "source": [
    "# find no.of days of reduced activity of male and female due to illness"
   ]
  },
  {
   "cell_type": "code",
   "execution_count": 13,
   "id": "d103726c",
   "metadata": {},
   "outputs": [
    {
     "data": {
      "text/html": [
       "<div>\n",
       "<style scoped>\n",
       "    .dataframe tbody tr th:only-of-type {\n",
       "        vertical-align: middle;\n",
       "    }\n",
       "\n",
       "    .dataframe tbody tr th {\n",
       "        vertical-align: top;\n",
       "    }\n",
       "\n",
       "    .dataframe thead th {\n",
       "        text-align: right;\n",
       "    }\n",
       "</style>\n",
       "<table border=\"1\" class=\"dataframe\">\n",
       "  <thead>\n",
       "    <tr style=\"text-align: right;\">\n",
       "      <th></th>\n",
       "      <th></th>\n",
       "      <th>Unnamed: 0</th>\n",
       "      <th>visits</th>\n",
       "      <th>age</th>\n",
       "      <th>income</th>\n",
       "      <th>illness</th>\n",
       "      <th>health</th>\n",
       "    </tr>\n",
       "    <tr>\n",
       "      <th>gender</th>\n",
       "      <th>reduced</th>\n",
       "      <th></th>\n",
       "      <th></th>\n",
       "      <th></th>\n",
       "      <th></th>\n",
       "      <th></th>\n",
       "      <th></th>\n",
       "    </tr>\n",
       "  </thead>\n",
       "  <tbody>\n",
       "    <tr>\n",
       "      <th rowspan=\"14\" valign=\"top\">female</th>\n",
       "      <th>0</th>\n",
       "      <td>2524.038512</td>\n",
       "      <td>0.229322</td>\n",
       "      <td>0.465755</td>\n",
       "      <td>0.482735</td>\n",
       "      <td>1.462144</td>\n",
       "      <td>1.115098</td>\n",
       "    </tr>\n",
       "    <tr>\n",
       "      <th>1</th>\n",
       "      <td>1985.768421</td>\n",
       "      <td>0.400000</td>\n",
       "      <td>0.325684</td>\n",
       "      <td>0.542105</td>\n",
       "      <td>2.242105</td>\n",
       "      <td>1.610526</td>\n",
       "    </tr>\n",
       "    <tr>\n",
       "      <th>2</th>\n",
       "      <td>1622.618182</td>\n",
       "      <td>0.672727</td>\n",
       "      <td>0.391455</td>\n",
       "      <td>0.560182</td>\n",
       "      <td>2.236364</td>\n",
       "      <td>1.781818</td>\n",
       "    </tr>\n",
       "    <tr>\n",
       "      <th>3</th>\n",
       "      <td>997.311111</td>\n",
       "      <td>1.333333</td>\n",
       "      <td>0.403111</td>\n",
       "      <td>0.516000</td>\n",
       "      <td>2.733333</td>\n",
       "      <td>1.733333</td>\n",
       "    </tr>\n",
       "    <tr>\n",
       "      <th>4</th>\n",
       "      <td>1237.740741</td>\n",
       "      <td>0.851852</td>\n",
       "      <td>0.458889</td>\n",
       "      <td>0.466667</td>\n",
       "      <td>2.222222</td>\n",
       "      <td>2.074074</td>\n",
       "    </tr>\n",
       "    <tr>\n",
       "      <th>5</th>\n",
       "      <td>1169.055556</td>\n",
       "      <td>1.444444</td>\n",
       "      <td>0.401667</td>\n",
       "      <td>0.614444</td>\n",
       "      <td>2.222222</td>\n",
       "      <td>2.500000</td>\n",
       "    </tr>\n",
       "    <tr>\n",
       "      <th>6</th>\n",
       "      <td>1382.545455</td>\n",
       "      <td>1.363636</td>\n",
       "      <td>0.426364</td>\n",
       "      <td>0.622727</td>\n",
       "      <td>2.363636</td>\n",
       "      <td>1.363636</td>\n",
       "    </tr>\n",
       "    <tr>\n",
       "      <th>7</th>\n",
       "      <td>1034.846154</td>\n",
       "      <td>1.384615</td>\n",
       "      <td>0.436154</td>\n",
       "      <td>0.473462</td>\n",
       "      <td>2.653846</td>\n",
       "      <td>2.230769</td>\n",
       "    </tr>\n",
       "    <tr>\n",
       "      <th>8</th>\n",
       "      <td>1883.090909</td>\n",
       "      <td>1.090909</td>\n",
       "      <td>0.471818</td>\n",
       "      <td>0.404545</td>\n",
       "      <td>2.181818</td>\n",
       "      <td>4.000000</td>\n",
       "    </tr>\n",
       "    <tr>\n",
       "      <th>9</th>\n",
       "      <td>1349.000000</td>\n",
       "      <td>0.500000</td>\n",
       "      <td>0.570000</td>\n",
       "      <td>0.825000</td>\n",
       "      <td>3.000000</td>\n",
       "      <td>1.000000</td>\n",
       "    </tr>\n",
       "    <tr>\n",
       "      <th>10</th>\n",
       "      <td>1099.428571</td>\n",
       "      <td>2.142857</td>\n",
       "      <td>0.512857</td>\n",
       "      <td>0.421429</td>\n",
       "      <td>2.571429</td>\n",
       "      <td>2.000000</td>\n",
       "    </tr>\n",
       "    <tr>\n",
       "      <th>12</th>\n",
       "      <td>1661.000000</td>\n",
       "      <td>2.000000</td>\n",
       "      <td>0.720000</td>\n",
       "      <td>0.250000</td>\n",
       "      <td>3.500000</td>\n",
       "      <td>5.500000</td>\n",
       "    </tr>\n",
       "    <tr>\n",
       "      <th>13</th>\n",
       "      <td>906.000000</td>\n",
       "      <td>4.000000</td>\n",
       "      <td>0.720000</td>\n",
       "      <td>0.300000</td>\n",
       "      <td>4.500000</td>\n",
       "      <td>3.500000</td>\n",
       "    </tr>\n",
       "    <tr>\n",
       "      <th>14</th>\n",
       "      <td>1392.112069</td>\n",
       "      <td>1.543103</td>\n",
       "      <td>0.551724</td>\n",
       "      <td>0.427586</td>\n",
       "      <td>2.534483</td>\n",
       "      <td>4.112069</td>\n",
       "    </tr>\n",
       "    <tr>\n",
       "      <th rowspan=\"15\" valign=\"top\">male</th>\n",
       "      <th>0</th>\n",
       "      <td>3008.911019</td>\n",
       "      <td>0.136007</td>\n",
       "      <td>0.344703</td>\n",
       "      <td>0.694398</td>\n",
       "      <td>1.099585</td>\n",
       "      <td>0.924850</td>\n",
       "    </tr>\n",
       "    <tr>\n",
       "      <th>1</th>\n",
       "      <td>2485.158537</td>\n",
       "      <td>0.304878</td>\n",
       "      <td>0.286220</td>\n",
       "      <td>0.676341</td>\n",
       "      <td>1.743902</td>\n",
       "      <td>1.256098</td>\n",
       "    </tr>\n",
       "    <tr>\n",
       "      <th>2</th>\n",
       "      <td>2007.679245</td>\n",
       "      <td>0.471698</td>\n",
       "      <td>0.343585</td>\n",
       "      <td>0.653019</td>\n",
       "      <td>2.358491</td>\n",
       "      <td>1.547170</td>\n",
       "    </tr>\n",
       "    <tr>\n",
       "      <th>3</th>\n",
       "      <td>1909.068966</td>\n",
       "      <td>0.724138</td>\n",
       "      <td>0.334138</td>\n",
       "      <td>0.741379</td>\n",
       "      <td>2.137931</td>\n",
       "      <td>1.689655</td>\n",
       "    </tr>\n",
       "    <tr>\n",
       "      <th>4</th>\n",
       "      <td>1424.000000</td>\n",
       "      <td>0.722222</td>\n",
       "      <td>0.309444</td>\n",
       "      <td>0.869444</td>\n",
       "      <td>2.055556</td>\n",
       "      <td>2.000000</td>\n",
       "    </tr>\n",
       "    <tr>\n",
       "      <th>5</th>\n",
       "      <td>1437.272727</td>\n",
       "      <td>1.136364</td>\n",
       "      <td>0.331818</td>\n",
       "      <td>0.570455</td>\n",
       "      <td>2.272727</td>\n",
       "      <td>2.818182</td>\n",
       "    </tr>\n",
       "    <tr>\n",
       "      <th>6</th>\n",
       "      <td>562.000000</td>\n",
       "      <td>0.833333</td>\n",
       "      <td>0.340000</td>\n",
       "      <td>0.591667</td>\n",
       "      <td>2.500000</td>\n",
       "      <td>2.000000</td>\n",
       "    </tr>\n",
       "    <tr>\n",
       "      <th>7</th>\n",
       "      <td>1716.750000</td>\n",
       "      <td>0.750000</td>\n",
       "      <td>0.314167</td>\n",
       "      <td>0.655000</td>\n",
       "      <td>2.583333</td>\n",
       "      <td>4.333333</td>\n",
       "    </tr>\n",
       "    <tr>\n",
       "      <th>8</th>\n",
       "      <td>680.666667</td>\n",
       "      <td>1.333333</td>\n",
       "      <td>0.365000</td>\n",
       "      <td>0.833333</td>\n",
       "      <td>2.666667</td>\n",
       "      <td>2.000000</td>\n",
       "    </tr>\n",
       "    <tr>\n",
       "      <th>9</th>\n",
       "      <td>1375.400000</td>\n",
       "      <td>2.200000</td>\n",
       "      <td>0.310000</td>\n",
       "      <td>0.392000</td>\n",
       "      <td>2.400000</td>\n",
       "      <td>2.000000</td>\n",
       "    </tr>\n",
       "    <tr>\n",
       "      <th>10</th>\n",
       "      <td>1543.200000</td>\n",
       "      <td>1.800000</td>\n",
       "      <td>0.480000</td>\n",
       "      <td>0.590000</td>\n",
       "      <td>2.600000</td>\n",
       "      <td>4.600000</td>\n",
       "    </tr>\n",
       "    <tr>\n",
       "      <th>11</th>\n",
       "      <td>355.500000</td>\n",
       "      <td>5.000000</td>\n",
       "      <td>0.320000</td>\n",
       "      <td>1.000000</td>\n",
       "      <td>1.500000</td>\n",
       "      <td>0.500000</td>\n",
       "    </tr>\n",
       "    <tr>\n",
       "      <th>12</th>\n",
       "      <td>781.500000</td>\n",
       "      <td>2.000000</td>\n",
       "      <td>0.370000</td>\n",
       "      <td>0.515000</td>\n",
       "      <td>1.500000</td>\n",
       "      <td>1.000000</td>\n",
       "    </tr>\n",
       "    <tr>\n",
       "      <th>13</th>\n",
       "      <td>508.666667</td>\n",
       "      <td>4.000000</td>\n",
       "      <td>0.510000</td>\n",
       "      <td>0.350000</td>\n",
       "      <td>3.333333</td>\n",
       "      <td>2.333333</td>\n",
       "    </tr>\n",
       "    <tr>\n",
       "      <th>14</th>\n",
       "      <td>1236.069444</td>\n",
       "      <td>1.555556</td>\n",
       "      <td>0.476806</td>\n",
       "      <td>0.598611</td>\n",
       "      <td>2.375000</td>\n",
       "      <td>3.527778</td>\n",
       "    </tr>\n",
       "  </tbody>\n",
       "</table>\n",
       "</div>"
      ],
      "text/plain": [
       "                 Unnamed: 0    visits       age    income   illness    health\n",
       "gender reduced                                                               \n",
       "female 0        2524.038512  0.229322  0.465755  0.482735  1.462144  1.115098\n",
       "       1        1985.768421  0.400000  0.325684  0.542105  2.242105  1.610526\n",
       "       2        1622.618182  0.672727  0.391455  0.560182  2.236364  1.781818\n",
       "       3         997.311111  1.333333  0.403111  0.516000  2.733333  1.733333\n",
       "       4        1237.740741  0.851852  0.458889  0.466667  2.222222  2.074074\n",
       "       5        1169.055556  1.444444  0.401667  0.614444  2.222222  2.500000\n",
       "       6        1382.545455  1.363636  0.426364  0.622727  2.363636  1.363636\n",
       "       7        1034.846154  1.384615  0.436154  0.473462  2.653846  2.230769\n",
       "       8        1883.090909  1.090909  0.471818  0.404545  2.181818  4.000000\n",
       "       9        1349.000000  0.500000  0.570000  0.825000  3.000000  1.000000\n",
       "       10       1099.428571  2.142857  0.512857  0.421429  2.571429  2.000000\n",
       "       12       1661.000000  2.000000  0.720000  0.250000  3.500000  5.500000\n",
       "       13        906.000000  4.000000  0.720000  0.300000  4.500000  3.500000\n",
       "       14       1392.112069  1.543103  0.551724  0.427586  2.534483  4.112069\n",
       "male   0        3008.911019  0.136007  0.344703  0.694398  1.099585  0.924850\n",
       "       1        2485.158537  0.304878  0.286220  0.676341  1.743902  1.256098\n",
       "       2        2007.679245  0.471698  0.343585  0.653019  2.358491  1.547170\n",
       "       3        1909.068966  0.724138  0.334138  0.741379  2.137931  1.689655\n",
       "       4        1424.000000  0.722222  0.309444  0.869444  2.055556  2.000000\n",
       "       5        1437.272727  1.136364  0.331818  0.570455  2.272727  2.818182\n",
       "       6         562.000000  0.833333  0.340000  0.591667  2.500000  2.000000\n",
       "       7        1716.750000  0.750000  0.314167  0.655000  2.583333  4.333333\n",
       "       8         680.666667  1.333333  0.365000  0.833333  2.666667  2.000000\n",
       "       9        1375.400000  2.200000  0.310000  0.392000  2.400000  2.000000\n",
       "       10       1543.200000  1.800000  0.480000  0.590000  2.600000  4.600000\n",
       "       11        355.500000  5.000000  0.320000  1.000000  1.500000  0.500000\n",
       "       12        781.500000  2.000000  0.370000  0.515000  1.500000  1.000000\n",
       "       13        508.666667  4.000000  0.510000  0.350000  3.333333  2.333333\n",
       "       14       1236.069444  1.555556  0.476806  0.598611  2.375000  3.527778"
      ]
     },
     "execution_count": 13,
     "metadata": {},
     "output_type": "execute_result"
    }
   ],
   "source": [
    "data.groupby(['gender','reduced']).mean()"
   ]
  },
  {
   "cell_type": "markdown",
   "id": "8b6d1cae",
   "metadata": {},
   "source": [
    "# check whether the missing values are present or not"
   ]
  },
  {
   "cell_type": "code",
   "execution_count": 14,
   "id": "be903b1d",
   "metadata": {},
   "outputs": [
    {
     "data": {
      "text/plain": [
       "<AxesSubplot:>"
      ]
     },
     "execution_count": 14,
     "metadata": {},
     "output_type": "execute_result"
    },
    {
     "data": {
      "image/png": "[encoded data removed]",
      "text/plain": [
       "<Figure size 432x288 with 1 Axes>"
      ]
     },
     "metadata": {
      "needs_background": "light"
     },
     "output_type": "display_data"
    }
   ],
   "source": [
    "snb.heatmap(data.isnull(),cbar=False,cmap='viridis')"
   ]
  },
  {
   "cell_type": "markdown",
   "id": "6da93dd6",
   "metadata": {},
   "source": [
    "# Find correlation between variables in the dataset"
   ]
  },
  {
   "cell_type": "code",
   "execution_count": 17,
   "id": "75fb8249",
   "metadata": {},
   "outputs": [
    {
     "data": {
      "text/plain": [
       "<AxesSubplot:>"
      ]
     },
     "execution_count": 17,
     "metadata": {},
     "output_type": "execute_result"
    },
    {
     "data": {
      "image/png": "[encoded data removed]",
      "text/plain": [
       "<Figure size 720x720 with 2 Axes>"
      ]
     },
     "metadata": {
      "needs_background": "light"
     },
     "output_type": "display_data"
    }
   ],
   "source": [
    "plt.figure(figsize=(10,10))\n",
    "snb.heatmap(data.corr(),cbar=True,annot=True,cmap='Greens')"
   ]
  },
  {
   "cell_type": "markdown",
   "id": "42f9d06e",
   "metadata": {},
   "source": [
    "# Analyse how income of the patient affects no.of visits to the hospital"
   ]
  },
  {
   "cell_type": "code",
   "execution_count": 18,
   "id": "cb78fdce",
   "metadata": {},
   "outputs": [
    {
     "data": {
      "text/plain": [
       "Text(0, 0.5, 'visits')"
      ]
     },
     "execution_count": 18,
     "metadata": {},
     "output_type": "execute_result"
    },
    {
     "data": {
      "image/png": "[encoded data removed]",
      "text/plain": [
       "<Figure size 720x720 with 1 Axes>"
      ]
     },
     "metadata": {
      "needs_background": "light"
     },
     "output_type": "display_data"
    }
   ],
   "source": [
    "plt.figure(figsize=(10,10))\n",
    "plt.scatter(x='income',y='visits',data=data)\n",
    "plt.xlabel('income')\n",
    "plt.ylabel('visits')"
   ]
  },
  {
   "cell_type": "markdown",
   "id": "fde6be91",
   "metadata": {},
   "source": [
    "# Count and visualize the no.of males and females affected by illness"
   ]
  },
  {
   "cell_type": "code",
   "execution_count": 19,
   "id": "0f1ef96a",
   "metadata": {},
   "outputs": [
    {
     "data": {
      "text/plain": [
       "<AxesSubplot:xlabel='gender', ylabel='Count'>"
      ]
     },
     "execution_count": 19,
     "metadata": {},
     "output_type": "execute_result"
    },
    {
     "data": {
      "image/png": "[encoded data removed]",
      "text/plain": [
       "<Figure size 432x288 with 1 Axes>"
      ]
     },
     "metadata": {
      "needs_background": "light"
     },
     "output_type": "display_data"
    }
   ],
   "source": [
    "snb.histplot(data.gender,bins=2)"
   ]
  },
  {
   "cell_type": "markdown",
   "id": "bd41bf5c",
   "metadata": {},
   "source": [
    "# visualize the percentage of people getting govt health insurance due to low income and old age and also the percentage of people having privata insurance"
   ]
  },
  {
   "cell_type": "code",
   "execution_count": 20,
   "id": "7cc617a0",
   "metadata": {},
   "outputs": [
    {
     "data": {
      "image/png": "[encoded data removed]",
      "text/plain": [
       "<Figure size 360x360 with 1 Axes>"
      ]
     },
     "metadata": {},
     "output_type": "display_data"
    },
    {
     "data": {
      "image/png": "[encoded data removed]",
      "text/plain": [
       "<Figure size 360x360 with 1 Axes>"
      ]
     },
     "metadata": {},
     "output_type": "display_data"
    },
    {
     "data": {
      "image/png": "[encoded data removed]",
      "text/plain": [
       "<Figure size 360x360 with 1 Axes>"
      ]
     },
     "metadata": {},
     "output_type": "display_data"
    }
   ],
   "source": [
    "#% of people getting govt Insurance due to low income\n",
    "label=['yes', 'no']\n",
    "\n",
    "Y=data[data['freepoor']=='yes']\n",
    "N=data[data['freepoor']=='no']\n",
    "x = [Y.shape[0],N.shape[0]]\n",
    "plt.figure(figsize=(5,5))\n",
    "plt.pie(x, labels=label,autopct='%1.1f%%')\n",
    "plt.title(\"% of people getting govt health Insurance due to low income \")\n",
    "plt.show()\n",
    "\n",
    "#% of people having private Insurance \n",
    "Y=data[data['private']=='yes']\n",
    "N=data[data['private']=='no']\n",
    "x = [Y.shape[0],N.shape[0]]\n",
    "plt.figure(figsize=(5,5))\n",
    "plt.pie(x, labels=label,autopct='%1.1f%%')\n",
    "plt.title(\"% of people having private health Insurance\")\n",
    "plt.show()\n",
    "\n",
    "#% of people getting govt Insurance due to old age, disability or veteran status\n",
    "                                    \n",
    "Y=data[data['freerepat']=='yes']\n",
    "N = data[data['freerepat']=='no' ]\n",
    "x = [Y.shape[0], N.shape[0]]\n",
    "plt.figure(figsize =(5,5))\n",
    "plt.pie(x, labels=label,autopct='%1.1f%%')\n",
    "plt.title(\"% of people getting govt health Insurance due to old age, disability or veteran status \")\n",
    "plt.show()"
   ]
  },
  {
   "cell_type": "markdown",
   "id": "87dddce0",
   "metadata": {},
   "source": [
    "#  Analyse the reduced days of activity due to illness based on gender\n"
   ]
  },
  {
   "cell_type": "code",
   "execution_count": 21,
   "id": "78b28fc8",
   "metadata": {},
   "outputs": [
    {
     "data": {
      "image/png": "[encoded data removed]",
      "text/plain": [
       "<Figure size 432x288 with 1 Axes>"
      ]
     },
     "metadata": {
      "needs_background": "light"
     },
     "output_type": "display_data"
    }
   ],
   "source": [
    "db=data.groupby('gender')['reduced'].sum().to_frame().reset_index()\n",
    "plt.barh(db['gender'],db['reduced'],color=['cornflowerblue','lightseagreen'])\n",
    "plt.title('Bar Chart')\n",
    "plt.xlabel('Reduced Activity')\n",
    "plt.ylabel('Gender')\n",
    "plt.show()"
   ]
  },
  {
   "cell_type": "markdown",
   "id": "21b0ba1a",
   "metadata": {},
   "source": [
    "# Analyze relation between age and illness"
   ]
  },
  {
   "cell_type": "code",
   "execution_count": 22,
   "id": "b0f00627",
   "metadata": {},
   "outputs": [
    {
     "data": {
      "image/png": "[encoded data removed]",
      "text/plain": [
       "<Figure size 432x288 with 1 Axes>"
      ]
     },
     "metadata": {
      "needs_background": "light"
     },
     "output_type": "display_data"
    }
   ],
   "source": [
    "db=data.groupby('illness')['age'].sum().to_frame().reset_index()\n",
    "plt.barh(db['illness'],db['age']/10,color=['lightseagreen'])\n",
    "plt.title('Age v/s Illness')\n",
    "plt.xlabel('age')\n",
    "plt.ylabel('illness')\n",
    "plt.show()"
   ]
  },
  {
   "cell_type": "markdown",
   "id": "bf0cf083",
   "metadata": {},
   "source": [
    "# Finding the age of people having majority of illness type."
   ]
  },
  {
   "cell_type": "code",
   "execution_count": 24,
   "id": "65f7cbb0",
   "metadata": {},
   "outputs": [
    {
     "data": {
      "image/png": "[encoded data removed]",
      "text/plain": [
       "<Figure size 432x288 with 1 Axes>"
      ]
     },
     "metadata": {
      "needs_background": "light"
     },
     "output_type": "display_data"
    }
   ],
   "source": [
    "db=data.groupby('illness')['age'].sum().to_frame().reset_index()\n",
    "fig, ax = plt.subplots()\n",
    "width = 0.5\n",
    "ind = np.arange(len(db['age']))\n",
    " \n",
    "ax.barh(ind, db['age']/10, width, color = \"blue\")\n",
    " \n",
    "for i, v in enumerate(db['age']/10):\n",
    "    ax.text(v , i , str(v),\n",
    "            color = 'blue', fontweight = 'bold')\n",
    "\n",
    "plt.title('Relation between age and illnesss')\n",
    "plt.xlabel('age')\n",
    "plt.ylabel('illness')\n",
    "plt.show()"
   ]
  },
  {
   "cell_type": "markdown",
   "id": "eef679fe",
   "metadata": {},
   "source": [
    "# Analysing the percentage of visits based on illness occured"
   ]
  },
  {
   "cell_type": "code",
   "execution_count": 25,
   "id": "008f1517",
   "metadata": {},
   "outputs": [
    {
     "data": {
      "image/png": "[encoded data removed]",
      "text/plain": [
       "<Figure size 432x288 with 1 Axes>"
      ]
     },
     "metadata": {},
     "output_type": "display_data"
    }
   ],
   "source": [
    "db=data.groupby('illness')['visits'].sum().to_frame().reset_index()\n",
    "illness = db[\"illness\"]\n",
    "visits = db[\"visits\"]\n",
    "colors = [\"#1f77b4\", \"#ff7f0e\",\"#2ca02c\", \"#d62728\", \"#8c564b\",\"#B2BEB5\" ]\n",
    "plt.pie(visits, labels=illness, colors=colors,autopct='%1.1f%%')\n",
    "plt.title(\"Percentage of no.of visits to the hospital based on illness\")\n",
    "plt.show()"
   ]
  },
  {
   "cell_type": "markdown",
   "id": "2db83f62",
   "metadata": {},
   "source": [
    "# Analysing how many no.of patients visited doctor based on illness"
   ]
  },
  {
   "cell_type": "code",
   "execution_count": 26,
   "id": "466c2e7c",
   "metadata": {},
   "outputs": [
    {
     "data": {
      "text/plain": [
       "<AxesSubplot:xlabel='illness', ylabel='Count'>"
      ]
     },
     "execution_count": 26,
     "metadata": {},
     "output_type": "execute_result"
    },
    {
     "data": {
      "image/png": "[encoded data removed]",
      "text/plain": [
       "<Figure size 432x288 with 1 Axes>"
      ]
     },
     "metadata": {
      "needs_background": "light"
     },
     "output_type": "display_data"
    }
   ],
   "source": [
    "snb.histplot(data.illness,bins=6)"
   ]
  },
  {
   "cell_type": "markdown",
   "id": "9ddede84",
   "metadata": {},
   "source": [
    "# Visualizing the percentage of people having lchronic illness variable."
   ]
  },
  {
   "cell_type": "code",
   "execution_count": 27,
   "id": "4650e268",
   "metadata": {},
   "outputs": [
    {
     "data": {
      "image/png": "[encoded data removed]",
      "text/plain": [
       "<Figure size 360x360 with 1 Axes>"
      ]
     },
     "metadata": {},
     "output_type": "display_data"
    }
   ],
   "source": [
    "label=['yes', 'no']\n",
    "\n",
    "Y=data[data['lchronic']=='yes']\n",
    "N=data[data['lchronic']=='no']\n",
    "x = [Y.shape[0],N.shape[0]]\n",
    "plt.figure(figsize=(5,5))\n",
    "colors = [ \"#d62728\",\"#B2BEB5\" ]\n",
    "plt.pie(x, labels=label,colors=colors,autopct='%1.1f%%')\n",
    "plt.title(\"Percenatge of people having lchronic illness\")\n",
    "plt.show()"
   ]
  },
  {
   "cell_type": "markdown",
   "id": "c5bc4b32",
   "metadata": {},
   "source": [
    "# Visualizing the percentage of people having lchronic illness variable."
   ]
  },
  {
   "cell_type": "code",
   "execution_count": 28,
   "id": "a568eca5",
   "metadata": {},
   "outputs": [
    {
     "data": {
      "image/png": "[encoded data removed]",
      "text/plain": [
       "<Figure size 360x360 with 1 Axes>"
      ]
     },
     "metadata": {},
     "output_type": "display_data"
    }
   ],
   "source": [
    "label=['yes', 'no']\n",
    "\n",
    "Y=data[data['nchronic']=='yes']\n",
    "N=data[data['nchronic']=='no']\n",
    "x = [Y.shape[0],N.shape[0]]\n",
    "plt.figure(figsize=(5,5))\n",
    "colors = [ \"#d62728\",\"#B2BEB5\" ]\n",
    "plt.pie(x, labels=label,colors=colors,autopct='%1.1f%%')\n",
    "plt.title(\"Percenatge of people having nchronic illness\")\n",
    "plt.show()"
   ]
  },
  {
   "cell_type": "markdown",
   "id": "8142e241",
   "metadata": {},
   "source": [
    "# find no.of visits of people due to illness variable."
   ]
  },
  {
   "cell_type": "code",
   "execution_count": 29,
   "id": "d1b40ad2",
   "metadata": {},
   "outputs": [
    {
     "data": {
      "text/html": [
       "<div>\n",
       "<style scoped>\n",
       "    .dataframe tbody tr th:only-of-type {\n",
       "        vertical-align: middle;\n",
       "    }\n",
       "\n",
       "    .dataframe tbody tr th {\n",
       "        vertical-align: top;\n",
       "    }\n",
       "\n",
       "    .dataframe thead th {\n",
       "        text-align: right;\n",
       "    }\n",
       "</style>\n",
       "<table border=\"1\" class=\"dataframe\">\n",
       "  <thead>\n",
       "    <tr style=\"text-align: right;\">\n",
       "      <th></th>\n",
       "      <th></th>\n",
       "      <th>Unnamed: 0</th>\n",
       "      <th>age</th>\n",
       "      <th>income</th>\n",
       "      <th>reduced</th>\n",
       "      <th>health</th>\n",
       "    </tr>\n",
       "    <tr>\n",
       "      <th>illness</th>\n",
       "      <th>visits</th>\n",
       "      <th></th>\n",
       "      <th></th>\n",
       "      <th></th>\n",
       "      <th></th>\n",
       "      <th></th>\n",
       "    </tr>\n",
       "  </thead>\n",
       "  <tbody>\n",
       "    <tr>\n",
       "      <th rowspan=\"5\" valign=\"top\">0</th>\n",
       "      <th>0</th>\n",
       "      <td>3409.038647</td>\n",
       "      <td>0.368620</td>\n",
       "      <td>0.642443</td>\n",
       "      <td>0.033816</td>\n",
       "      <td>0.410628</td>\n",
       "    </tr>\n",
       "    <tr>\n",
       "      <th>1</th>\n",
       "      <td>576.791209</td>\n",
       "      <td>0.457033</td>\n",
       "      <td>0.601209</td>\n",
       "      <td>0.010989</td>\n",
       "      <td>0.670330</td>\n",
       "    </tr>\n",
       "    <tr>\n",
       "      <th>2</th>\n",
       "      <td>703.000000</td>\n",
       "      <td>0.532500</td>\n",
       "      <td>0.363333</td>\n",
       "      <td>2.416667</td>\n",
       "      <td>0.583333</td>\n",
       "    </tr>\n",
       "    <tr>\n",
       "      <th>3</th>\n",
       "      <td>283.000000</td>\n",
       "      <td>0.220000</td>\n",
       "      <td>0.900000</td>\n",
       "      <td>0.000000</td>\n",
       "      <td>0.000000</td>\n",
       "    </tr>\n",
       "    <tr>\n",
       "      <th>4</th>\n",
       "      <td>1023.000000</td>\n",
       "      <td>0.720000</td>\n",
       "      <td>0.250000</td>\n",
       "      <td>0.000000</td>\n",
       "      <td>4.000000</td>\n",
       "    </tr>\n",
       "    <tr>\n",
       "      <th rowspan=\"9\" valign=\"top\">1</th>\n",
       "      <th>0</th>\n",
       "      <td>3126.157175</td>\n",
       "      <td>0.369932</td>\n",
       "      <td>0.611162</td>\n",
       "      <td>0.472285</td>\n",
       "      <td>0.850418</td>\n",
       "    </tr>\n",
       "    <tr>\n",
       "      <th>1</th>\n",
       "      <td>476.344130</td>\n",
       "      <td>0.440121</td>\n",
       "      <td>0.566316</td>\n",
       "      <td>2.218623</td>\n",
       "      <td>1.323887</td>\n",
       "    </tr>\n",
       "    <tr>\n",
       "      <th>2</th>\n",
       "      <td>436.200000</td>\n",
       "      <td>0.406750</td>\n",
       "      <td>0.588750</td>\n",
       "      <td>2.125000</td>\n",
       "      <td>2.050000</td>\n",
       "    </tr>\n",
       "    <tr>\n",
       "      <th>3</th>\n",
       "      <td>339.666667</td>\n",
       "      <td>0.335556</td>\n",
       "      <td>0.390000</td>\n",
       "      <td>4.444444</td>\n",
       "      <td>2.555556</td>\n",
       "    </tr>\n",
       "    <tr>\n",
       "      <th>4</th>\n",
       "      <td>282.700000</td>\n",
       "      <td>0.274000</td>\n",
       "      <td>0.651000</td>\n",
       "      <td>8.600000</td>\n",
       "      <td>2.100000</td>\n",
       "    </tr>\n",
       "    <tr>\n",
       "      <th>5</th>\n",
       "      <td>393.285714</td>\n",
       "      <td>0.372857</td>\n",
       "      <td>0.692857</td>\n",
       "      <td>9.714286</td>\n",
       "      <td>2.142857</td>\n",
       "    </tr>\n",
       "    <tr>\n",
       "      <th>6</th>\n",
       "      <td>757.333333</td>\n",
       "      <td>0.653333</td>\n",
       "      <td>0.316667</td>\n",
       "      <td>9.666667</td>\n",
       "      <td>5.333333</td>\n",
       "    </tr>\n",
       "    <tr>\n",
       "      <th>7</th>\n",
       "      <td>405.000000</td>\n",
       "      <td>0.386667</td>\n",
       "      <td>0.416667</td>\n",
       "      <td>10.333333</td>\n",
       "      <td>1.333333</td>\n",
       "    </tr>\n",
       "    <tr>\n",
       "      <th>8</th>\n",
       "      <td>614.500000</td>\n",
       "      <td>0.595000</td>\n",
       "      <td>0.755000</td>\n",
       "      <td>11.500000</td>\n",
       "      <td>2.500000</td>\n",
       "    </tr>\n",
       "    <tr>\n",
       "      <th rowspan=\"9\" valign=\"top\">2</th>\n",
       "      <th>0</th>\n",
       "      <td>2894.434593</td>\n",
       "      <td>0.412515</td>\n",
       "      <td>0.574099</td>\n",
       "      <td>0.534884</td>\n",
       "      <td>1.449128</td>\n",
       "    </tr>\n",
       "    <tr>\n",
       "      <th>1</th>\n",
       "      <td>469.452128</td>\n",
       "      <td>0.434202</td>\n",
       "      <td>0.560798</td>\n",
       "      <td>1.739362</td>\n",
       "      <td>1.851064</td>\n",
       "    </tr>\n",
       "    <tr>\n",
       "      <th>2</th>\n",
       "      <td>454.760000</td>\n",
       "      <td>0.422400</td>\n",
       "      <td>0.481400</td>\n",
       "      <td>2.720000</td>\n",
       "      <td>1.980000</td>\n",
       "    </tr>\n",
       "    <tr>\n",
       "      <th>3</th>\n",
       "      <td>553.750000</td>\n",
       "      <td>0.470000</td>\n",
       "      <td>0.706250</td>\n",
       "      <td>4.750000</td>\n",
       "      <td>2.750000</td>\n",
       "    </tr>\n",
       "    <tr>\n",
       "      <th>4</th>\n",
       "      <td>529.750000</td>\n",
       "      <td>0.512500</td>\n",
       "      <td>0.350000</td>\n",
       "      <td>10.500000</td>\n",
       "      <td>5.000000</td>\n",
       "    </tr>\n",
       "    <tr>\n",
       "      <th>5</th>\n",
       "      <td>532.000000</td>\n",
       "      <td>0.520000</td>\n",
       "      <td>1.300000</td>\n",
       "      <td>3.000000</td>\n",
       "      <td>0.000000</td>\n",
       "    </tr>\n",
       "    <tr>\n",
       "      <th>6</th>\n",
       "      <td>475.500000</td>\n",
       "      <td>0.445000</td>\n",
       "      <td>0.775000</td>\n",
       "      <td>12.500000</td>\n",
       "      <td>2.000000</td>\n",
       "    </tr>\n",
       "    <tr>\n",
       "      <th>7</th>\n",
       "      <td>648.333333</td>\n",
       "      <td>0.553333</td>\n",
       "      <td>0.383333</td>\n",
       "      <td>7.333333</td>\n",
       "      <td>1.666667</td>\n",
       "    </tr>\n",
       "    <tr>\n",
       "      <th>8</th>\n",
       "      <td>395.500000</td>\n",
       "      <td>0.430000</td>\n",
       "      <td>0.250000</td>\n",
       "      <td>10.500000</td>\n",
       "      <td>2.500000</td>\n",
       "    </tr>\n",
       "    <tr>\n",
       "      <th rowspan=\"8\" valign=\"top\">3</th>\n",
       "      <th>0</th>\n",
       "      <td>2727.390957</td>\n",
       "      <td>0.424628</td>\n",
       "      <td>0.525984</td>\n",
       "      <td>0.843085</td>\n",
       "      <td>1.718085</td>\n",
       "    </tr>\n",
       "    <tr>\n",
       "      <th>1</th>\n",
       "      <td>588.054688</td>\n",
       "      <td>0.527500</td>\n",
       "      <td>0.465234</td>\n",
       "      <td>1.937500</td>\n",
       "      <td>1.875000</td>\n",
       "    </tr>\n",
       "    <tr>\n",
       "      <th>2</th>\n",
       "      <td>490.769231</td>\n",
       "      <td>0.449231</td>\n",
       "      <td>0.444615</td>\n",
       "      <td>4.000000</td>\n",
       "      <td>2.000000</td>\n",
       "    </tr>\n",
       "    <tr>\n",
       "      <th>3</th>\n",
       "      <td>480.500000</td>\n",
       "      <td>0.436667</td>\n",
       "      <td>0.516667</td>\n",
       "      <td>4.333333</td>\n",
       "      <td>5.333333</td>\n",
       "    </tr>\n",
       "    <tr>\n",
       "      <th>4</th>\n",
       "      <td>393.666667</td>\n",
       "      <td>0.376667</td>\n",
       "      <td>0.133333</td>\n",
       "      <td>1.333333</td>\n",
       "      <td>3.000000</td>\n",
       "    </tr>\n",
       "    <tr>\n",
       "      <th>5</th>\n",
       "      <td>198.000000</td>\n",
       "      <td>0.220000</td>\n",
       "      <td>0.450000</td>\n",
       "      <td>5.000000</td>\n",
       "      <td>10.000000</td>\n",
       "    </tr>\n",
       "    <tr>\n",
       "      <th>6</th>\n",
       "      <td>868.000000</td>\n",
       "      <td>0.720000</td>\n",
       "      <td>0.250000</td>\n",
       "      <td>14.000000</td>\n",
       "      <td>2.000000</td>\n",
       "    </tr>\n",
       "    <tr>\n",
       "      <th>7</th>\n",
       "      <td>851.000000</td>\n",
       "      <td>0.720000</td>\n",
       "      <td>0.250000</td>\n",
       "      <td>13.000000</td>\n",
       "      <td>6.000000</td>\n",
       "    </tr>\n",
       "    <tr>\n",
       "      <th rowspan=\"7\" valign=\"top\">4</th>\n",
       "      <th>0</th>\n",
       "      <td>2729.908046</td>\n",
       "      <td>0.455920</td>\n",
       "      <td>0.518046</td>\n",
       "      <td>0.994253</td>\n",
       "      <td>2.798851</td>\n",
       "    </tr>\n",
       "    <tr>\n",
       "      <th>1</th>\n",
       "      <td>577.371429</td>\n",
       "      <td>0.513857</td>\n",
       "      <td>0.476714</td>\n",
       "      <td>2.328571</td>\n",
       "      <td>3.142857</td>\n",
       "    </tr>\n",
       "    <tr>\n",
       "      <th>2</th>\n",
       "      <td>637.650000</td>\n",
       "      <td>0.550000</td>\n",
       "      <td>0.397500</td>\n",
       "      <td>3.850000</td>\n",
       "      <td>2.250000</td>\n",
       "    </tr>\n",
       "    <tr>\n",
       "      <th>3</th>\n",
       "      <td>662.000000</td>\n",
       "      <td>0.620000</td>\n",
       "      <td>0.250000</td>\n",
       "      <td>13.000000</td>\n",
       "      <td>0.000000</td>\n",
       "    </tr>\n",
       "    <tr>\n",
       "      <th>4</th>\n",
       "      <td>646.600000</td>\n",
       "      <td>0.584000</td>\n",
       "      <td>0.430000</td>\n",
       "      <td>4.800000</td>\n",
       "      <td>1.200000</td>\n",
       "    </tr>\n",
       "    <tr>\n",
       "      <th>6</th>\n",
       "      <td>644.333333</td>\n",
       "      <td>0.553333</td>\n",
       "      <td>0.416667</td>\n",
       "      <td>13.666667</td>\n",
       "      <td>4.333333</td>\n",
       "    </tr>\n",
       "    <tr>\n",
       "      <th>7</th>\n",
       "      <td>416.000000</td>\n",
       "      <td>0.320000</td>\n",
       "      <td>0.150000</td>\n",
       "      <td>14.000000</td>\n",
       "      <td>0.000000</td>\n",
       "    </tr>\n",
       "    <tr>\n",
       "      <th rowspan=\"9\" valign=\"top\">5</th>\n",
       "      <th>0</th>\n",
       "      <td>2709.489051</td>\n",
       "      <td>0.527372</td>\n",
       "      <td>0.421095</td>\n",
       "      <td>1.729927</td>\n",
       "      <td>2.817518</td>\n",
       "    </tr>\n",
       "    <tr>\n",
       "      <th>1</th>\n",
       "      <td>649.172414</td>\n",
       "      <td>0.567241</td>\n",
       "      <td>0.463966</td>\n",
       "      <td>2.120690</td>\n",
       "      <td>3.258621</td>\n",
       "    </tr>\n",
       "    <tr>\n",
       "      <th>2</th>\n",
       "      <td>637.500000</td>\n",
       "      <td>0.549615</td>\n",
       "      <td>0.490385</td>\n",
       "      <td>5.576923</td>\n",
       "      <td>5.115385</td>\n",
       "    </tr>\n",
       "    <tr>\n",
       "      <th>3</th>\n",
       "      <td>706.800000</td>\n",
       "      <td>0.610000</td>\n",
       "      <td>0.640000</td>\n",
       "      <td>4.800000</td>\n",
       "      <td>2.400000</td>\n",
       "    </tr>\n",
       "    <tr>\n",
       "      <th>4</th>\n",
       "      <td>507.000000</td>\n",
       "      <td>0.520000</td>\n",
       "      <td>0.550000</td>\n",
       "      <td>0.000000</td>\n",
       "      <td>4.000000</td>\n",
       "    </tr>\n",
       "    <tr>\n",
       "      <th>6</th>\n",
       "      <td>806.666667</td>\n",
       "      <td>0.703333</td>\n",
       "      <td>0.250000</td>\n",
       "      <td>14.000000</td>\n",
       "      <td>4.333333</td>\n",
       "    </tr>\n",
       "    <tr>\n",
       "      <th>7</th>\n",
       "      <td>743.250000</td>\n",
       "      <td>0.645000</td>\n",
       "      <td>0.400000</td>\n",
       "      <td>11.250000</td>\n",
       "      <td>4.250000</td>\n",
       "    </tr>\n",
       "    <tr>\n",
       "      <th>8</th>\n",
       "      <td>525.000000</td>\n",
       "      <td>0.520000</td>\n",
       "      <td>0.250000</td>\n",
       "      <td>14.000000</td>\n",
       "      <td>7.000000</td>\n",
       "    </tr>\n",
       "    <tr>\n",
       "      <th>9</th>\n",
       "      <td>663.000000</td>\n",
       "      <td>0.620000</td>\n",
       "      <td>0.250000</td>\n",
       "      <td>14.000000</td>\n",
       "      <td>10.000000</td>\n",
       "    </tr>\n",
       "  </tbody>\n",
       "</table>\n",
       "</div>"
      ],
      "text/plain": [
       "                 Unnamed: 0       age    income    reduced     health\n",
       "illness visits                                                       \n",
       "0       0       3409.038647  0.368620  0.642443   0.033816   0.410628\n",
       "        1        576.791209  0.457033  0.601209   0.010989   0.670330\n",
       "        2        703.000000  0.532500  0.363333   2.416667   0.583333\n",
       "        3        283.000000  0.220000  0.900000   0.000000   0.000000\n",
       "        4       1023.000000  0.720000  0.250000   0.000000   4.000000\n",
       "1       0       3126.157175  0.369932  0.611162   0.472285   0.850418\n",
       "        1        476.344130  0.440121  0.566316   2.218623   1.323887\n",
       "        2        436.200000  0.406750  0.588750   2.125000   2.050000\n",
       "        3        339.666667  0.335556  0.390000   4.444444   2.555556\n",
       "        4        282.700000  0.274000  0.651000   8.600000   2.100000\n",
       "        5        393.285714  0.372857  0.692857   9.714286   2.142857\n",
       "        6        757.333333  0.653333  0.316667   9.666667   5.333333\n",
       "        7        405.000000  0.386667  0.416667  10.333333   1.333333\n",
       "        8        614.500000  0.595000  0.755000  11.500000   2.500000\n",
       "2       0       2894.434593  0.412515  0.574099   0.534884   1.449128\n",
       "        1        469.452128  0.434202  0.560798   1.739362   1.851064\n",
       "        2        454.760000  0.422400  0.481400   2.720000   1.980000\n",
       "        3        553.750000  0.470000  0.706250   4.750000   2.750000\n",
       "        4        529.750000  0.512500  0.350000  10.500000   5.000000\n",
       "        5        532.000000  0.520000  1.300000   3.000000   0.000000\n",
       "        6        475.500000  0.445000  0.775000  12.500000   2.000000\n",
       "        7        648.333333  0.553333  0.383333   7.333333   1.666667\n",
       "        8        395.500000  0.430000  0.250000  10.500000   2.500000\n",
       "3       0       2727.390957  0.424628  0.525984   0.843085   1.718085\n",
       "        1        588.054688  0.527500  0.465234   1.937500   1.875000\n",
       "        2        490.769231  0.449231  0.444615   4.000000   2.000000\n",
       "        3        480.500000  0.436667  0.516667   4.333333   5.333333\n",
       "        4        393.666667  0.376667  0.133333   1.333333   3.000000\n",
       "        5        198.000000  0.220000  0.450000   5.000000  10.000000\n",
       "        6        868.000000  0.720000  0.250000  14.000000   2.000000\n",
       "        7        851.000000  0.720000  0.250000  13.000000   6.000000\n",
       "4       0       2729.908046  0.455920  0.518046   0.994253   2.798851\n",
       "        1        577.371429  0.513857  0.476714   2.328571   3.142857\n",
       "        2        637.650000  0.550000  0.397500   3.850000   2.250000\n",
       "        3        662.000000  0.620000  0.250000  13.000000   0.000000\n",
       "        4        646.600000  0.584000  0.430000   4.800000   1.200000\n",
       "        6        644.333333  0.553333  0.416667  13.666667   4.333333\n",
       "        7        416.000000  0.320000  0.150000  14.000000   0.000000\n",
       "5       0       2709.489051  0.527372  0.421095   1.729927   2.817518\n",
       "        1        649.172414  0.567241  0.463966   2.120690   3.258621\n",
       "        2        637.500000  0.549615  0.490385   5.576923   5.115385\n",
       "        3        706.800000  0.610000  0.640000   4.800000   2.400000\n",
       "        4        507.000000  0.520000  0.550000   0.000000   4.000000\n",
       "        6        806.666667  0.703333  0.250000  14.000000   4.333333\n",
       "        7        743.250000  0.645000  0.400000  11.250000   4.250000\n",
       "        8        525.000000  0.520000  0.250000  14.000000   7.000000\n",
       "        9        663.000000  0.620000  0.250000  14.000000  10.000000"
      ]
     },
     "execution_count": 29,
     "metadata": {},
     "output_type": "execute_result"
    }
   ],
   "source": [
    "data.groupby(['illness','visits']).mean()"
   ]
  },
  {
   "cell_type": "markdown",
   "id": "674460b1",
   "metadata": {},
   "source": [
    "# Analysing percentage of male and female based on their visit to the doctor"
   ]
  },
  {
   "cell_type": "code",
   "execution_count": 30,
   "id": "dfe8244d",
   "metadata": {},
   "outputs": [
    {
     "data": {
      "image/png": "[encoded data removed]",
      "text/plain": [
       "<Figure size 360x360 with 1 Axes>"
      ]
     },
     "metadata": {},
     "output_type": "display_data"
    }
   ],
   "source": [
    "label=['female', 'male']\n",
    "\n",
    "Y=data[data['gender']=='male']\n",
    "N=data[data['gender']=='female']\n",
    "x = [Y.shape[0],N.shape[0]]\n",
    "plt.figure(figsize=(5,5))\n",
    "colors = [ \"#d62728\",\"#B2BEB5\" ]\n",
    "plt.pie(x, labels=label,colors=colors,autopct='%1.1f%%')\n",
    "plt.title(\"Percenatge of male and female visiting doctor\")\n",
    "plt.show()"
   ]
  },
  {
   "cell_type": "code",
   "execution_count": 31,
   "id": "cab06a8f",
   "metadata": {},
   "outputs": [
    {
     "data": {
      "text/plain": [
       "0.25    1195\n",
       "0.90     589\n",
       "0.55     467\n",
       "0.35     462\n",
       "0.65     455\n",
       "0.75     441\n",
       "0.45     400\n",
       "1.10     361\n",
       "0.15     249\n",
       "1.50     215\n",
       "1.30     162\n",
       "0.06      80\n",
       "0.00      79\n",
       "0.01      35\n",
       "Name: income, dtype: int64"
      ]
     },
     "execution_count": 31,
     "metadata": {},
     "output_type": "execute_result"
    }
   ],
   "source": [
    "data['income'].value_counts()"
   ]
  },
  {
   "cell_type": "code",
   "execution_count": 32,
   "id": "0f837b35",
   "metadata": {},
   "outputs": [
    {
     "data": {
      "text/plain": [
       "0     3026\n",
       "1      823\n",
       "2      446\n",
       "3      273\n",
       "4      187\n",
       "5      132\n",
       "6      104\n",
       "7       61\n",
       "8       42\n",
       "9       32\n",
       "11      24\n",
       "10      21\n",
       "12      19\n",
       "Name: health, dtype: int64"
      ]
     },
     "execution_count": 32,
     "metadata": {},
     "output_type": "execute_result"
    }
   ],
   "source": [
    "data['health'].value_counts()"
   ]
  },
  {
   "cell_type": "markdown",
   "id": "307f24a8",
   "metadata": {},
   "source": [
    "# Analysing percentage of no.of visits to the hospital based on health variable# "
   ]
  },
  {
   "cell_type": "code",
   "execution_count": 33,
   "id": "f444a23a",
   "metadata": {},
   "outputs": [
    {
     "data": {
      "image/png": "[encoded data removed]",
      "text/plain": [
       "<Figure size 432x288 with 1 Axes>"
      ]
     },
     "metadata": {},
     "output_type": "display_data"
    }
   ],
   "source": [
    "db=data.groupby('health')['visits'].sum().to_frame().reset_index()\n",
    "illness = db[\"health\"]\n",
    "visits = db[\"visits\"]\n",
    "colors = [\"#1f77b4\", \"#ff7f0e\",\"#2ca02c\", \"#d62728\", \"#8c564b\",\"#B2BEB5\" ]\n",
    "plt.pie(visits, labels=illness, colors=colors,autopct='%1.1f%%')\n",
    "plt.title(\"Percentage of no.of visits to the hospital based on health\")\n",
    "plt.show()"
   ]
  },
  {
   "cell_type": "markdown",
   "id": "8db06dff",
   "metadata": {},
   "source": [
    "# Visualizing the count of people based on health and finding the type of health variable of people having maximum visits to the doctor."
   ]
  },
  {
   "cell_type": "code",
   "execution_count": 34,
   "id": "93696a17",
   "metadata": {},
   "outputs": [
    {
     "data": {
      "text/plain": [
       "<AxesSubplot:xlabel='health', ylabel='Count'>"
      ]
     },
     "execution_count": 34,
     "metadata": {},
     "output_type": "execute_result"
    },
    {
     "data": {
      "image/png": "[encoded data removed]",
      "text/plain": [
       "<Figure size 432x288 with 1 Axes>"
      ]
     },
     "metadata": {
      "needs_background": "light"
     },
     "output_type": "display_data"
    }
   ],
   "source": [
    "snb.histplot(data.health,bins=12)"
   ]
  },
  {
   "cell_type": "markdown",
   "id": "49109a9d",
   "metadata": {},
   "source": [
    "# Analysing the count of people based on the gender variable and illness variable"
   ]
  },
  {
   "cell_type": "code",
   "execution_count": 35,
   "id": "b41ff679",
   "metadata": {},
   "outputs": [
    {
     "data": {
      "image/png": "[encoded data removed]",
      "text/plain": [
       "<Figure size 432x288 with 1 Axes>"
      ]
     },
     "metadata": {
      "needs_background": "light"
     },
     "output_type": "display_data"
    }
   ],
   "source": [
    "import seaborn as snb\n",
    "import matplotlib.pyplot as plt\n",
    "snb.histplot(data, x=\"illness\", hue=\"gender\",bins=6)\n",
    "plt.show()"
   ]
  },
  {
   "cell_type": "markdown",
   "id": "bdccde35",
   "metadata": {},
   "source": [
    "# Analysing the count of people based on the gender variable and lchronic variable"
   ]
  },
  {
   "cell_type": "code",
   "execution_count": 36,
   "id": "eaba355f",
   "metadata": {},
   "outputs": [
    {
     "data": {
      "image/png": "[encoded data removed]",
      "text/plain": [
       "<Figure size 432x288 with 1 Axes>"
      ]
     },
     "metadata": {
      "needs_background": "light"
     },
     "output_type": "display_data"
    }
   ],
   "source": [
    "snb.histplot(data, x=\"lchronic\",hue=\"gender\",shrink=.5)\n",
    "plt.show()"
   ]
  },
  {
   "cell_type": "markdown",
   "id": "0dc9a652",
   "metadata": {},
   "source": [
    "# Analysing the count of people based on gender variable and income variable"
   ]
  },
  {
   "cell_type": "code",
   "execution_count": 37,
   "id": "083cbc1d",
   "metadata": {},
   "outputs": [
    {
     "data": {
      "image/png": "[encoded data removed]",
      "text/plain": [
       "<Figure size 432x288 with 1 Axes>"
      ]
     },
     "metadata": {
      "needs_background": "light"
     },
     "output_type": "display_data"
    }
   ],
   "source": [
    "snb.histplot(data, x=\"income\",hue=\"gender\",shrink=.7)\n",
    "plt.show()"
   ]
  },
  {
   "cell_type": "code",
   "execution_count": null,
   "id": "a9ed379a",
   "metadata": {},
   "outputs": [],
   "source": []
  }
 ],
 "metadata": {
  "kernelspec": {
   "display_name": "Python 3 (ipykernel)",
   "language": "python",
   "name": "python3"
  },
  "language_info": {
   "codemirror_mode": {
    "name": "ipython",
    "version": 3
   },
   "file_extension": ".py",
   "mimetype": "text/x-python",
   "name": "python",
   "nbconvert_exporter": "python",
   "pygments_lexer": "ipython3",
   "version": "3.9.12"
  }
 },
 "nbformat": 4,
 "nbformat_minor": 5
}
